{
 "cells": [
  {
   "cell_type": "code",
   "execution_count": 13,
   "metadata": {},
   "outputs": [
    {
     "name": "stdout",
     "output_type": "stream",
     "text": [
      "34.0臺斤=20.4公斤\n"
     ]
    }
   ],
   "source": [
    "kg_taiwan = float(input('請輸入臺斤:'))\n",
    "kg = float(kg_taiwan * 0.6)\n",
    "#print (str(kg_taiwan) +\"臺斤=\"+ str(kg)+ \"公斤\")\n",
    "print(f'{kg_taiwan}臺斤={kg}公斤')"
   ]
  },
  {
   "cell_type": "code",
   "execution_count": 7,
   "metadata": {},
   "outputs": [],
   "source": [
    "name = str(input(\"請輸入姓名\"))\n",
    "kg = float(input('請輸入體重:'))\n",
    "cm = float(input('請輸入身高:'))\n",
    "bmiresult = float(kg / (cm *0.01* cm*0.01))\n",
    "print (f'您的BMI值是{bmiresult}')"
   ]
  },
  {
   "cell_type": "code",
   "execution_count": null,
   "metadata": {},
   "outputs": [],
   "source": []
  }
 ],
 "metadata": {
  "kernelspec": {
   "display_name": "Python 3",
   "language": "python",
   "name": "python3"
  },
  "language_info": {
   "codemirror_mode": {
    "name": "ipython",
    "version": 3
   },
   "file_extension": ".py",
   "mimetype": "text/x-python",
   "name": "python",
   "nbconvert_exporter": "python",
   "pygments_lexer": "ipython3",
   "version": "3.11.9"
  }
 },
 "nbformat": 4,
 "nbformat_minor": 2
}
