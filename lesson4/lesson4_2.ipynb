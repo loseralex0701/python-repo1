{
 "cells": [
  {
   "cell_type": "code",
   "execution_count": null,
   "metadata": {},
   "outputs": [],
   "source": [
    "# 90(含)~100分為「優」\n",
    "# 80(含)~89分為「甲」\n",
    "# 70(含)~79分為「乙」\n",
    "# 60(含)~69分為「丙」\n",
    "# 0(含)~59分為「丁」\n",
    "\n",
    "score = int(input(\"請輸入學生分數:\"))\n",
    "if score >= 90:\n",
    "    grade = '優'\n",
    "elif score >= 80:\n",
    "    grade = '甲'\n",
    "elif score >= 70:\n",
    "    grade = '乙'\n",
    "elif score >= 60:\n",
    "    grade = '丙'\n",
    "else:\n",
    "    grade = '丁'\n",
    "\n",
    "print(f\"學生分數等級為{grade}\")"
   ]
  }
 ],
 "metadata": {
  "language_info": {
   "name": "python"
  }
 },
 "nbformat": 4,
 "nbformat_minor": 2
}
